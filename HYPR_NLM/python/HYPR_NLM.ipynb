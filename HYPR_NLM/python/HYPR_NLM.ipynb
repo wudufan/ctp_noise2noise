{
 "cells": [
  {
   "cell_type": "code",
   "execution_count": 1,
   "metadata": {},
   "outputs": [],
   "source": [
    "import numpy as np\n",
    "from ctypes import *\n",
    "import os\n",
    "from scipy.ndimage.filters import gaussian_filter"
   ]
  },
  {
   "cell_type": "code",
   "execution_count": 2,
   "metadata": {},
   "outputs": [],
   "source": [
    "if __name__ == '__main__':\n",
    "    lib = cdll.LoadLibrary('./libHYPR_NLM.so')\n",
    "else:\n",
    "    lib = cdll.LoadLibrary(os.path.join(os.path.dirname(__file__), 'libHYPR_NLM.so'))"
   ]
  },
  {
   "cell_type": "code",
   "execution_count": 3,
   "metadata": {},
   "outputs": [],
   "source": [
    "def SetDevice(device):\n",
    "    lib.HYPR_NLM_SetDevice.restype = c_int\n",
    "    return lib.HYPR_NLM_SetDevice(c_int(device))"
   ]
  },
  {
   "cell_type": "code",
   "execution_count": 4,
   "metadata": {},
   "outputs": [],
   "source": [
    "# Guided non-local mean and guided filtering\n",
    "# The target image was filtered by guided non-local mean first then a guided filtering was applied.  \n",
    "def HYPR_NLM(img, guide, searchSize, kernelSize, kernelStd, d, eps = 1e-6):\n",
    "    kernel = np.zeros(kernelSize, np.float32)\n",
    "    kernel[int(kernelSize[0] / 2), int(kernelSize[1] / 2), int(kernelSize[2] / 2)] = 1\n",
    "    kernel = gaussian_filter(kernel, kernelStd)\n",
    "    \n",
    "    res = np.zeros(img.shape, np.float32)\n",
    "    img = img.astype(np.float32)\n",
    "    guide = guide.astype(np.float32)\n",
    "    kernel = kernel.astype(np.float32)\n",
    "    \n",
    "    lib.HYPR_NLM.restype = c_int\n",
    "    err = lib.HYPR_NLM(res.ctypes.data_as(POINTER(c_float)), \n",
    "                       img.ctypes.data_as(POINTER(c_float)), \n",
    "                       guide.ctypes.data_as(POINTER(c_float)), \n",
    "                       kernel.ctypes.data_as(POINTER(c_float)), \n",
    "                       c_int(img.shape[2]), c_int(img.shape[1]), c_int(img.shape[0]), \n",
    "                       c_int(searchSize[2]), c_int(searchSize[1]), c_int(searchSize[0]), \n",
    "                       c_int(kernelSize[2]), c_int(kernelSize[1]), c_int(kernelSize[0]), \n",
    "                       c_float(d * d), c_float(eps))\n",
    "    \n",
    "    if not err == 0:\n",
    "        print (err)\n",
    "    \n",
    "    return res\n",
    "\n",
    "# Guided non-local mean\n",
    "# Pass img to guide for normal non-local mean\n",
    "# img - Pass a three dimensional array to this. Suggest applying img = np.copy(img, 'C') before passing, so that \n",
    "#         the order of elements will be in C order.\n",
    "# guide - Three dimensional array. guide = np.copy(guide, 'C') is suggested.\n",
    "# searchSize - Array / list of length 3.\n",
    "# kernelSize - Array / list of length 3.\n",
    "# kernelStd - A Gaussian filter was applied to local patches when calculating the distance, \n",
    "#       the kernelStd is the std of that Gaussian filter\n",
    "# d - The standard deviation of the non-local weighting, this is the most important parameter to be tuned.\n",
    "# eps - not used in NLM, but in HYPR_NLM for regularization during guided filtering\n",
    "def NLM(img, guide, searchSize, kernelSize, kernelStd, d, eps = 1e-6):\n",
    "    kernel = np.zeros(kernelSize, np.float32)\n",
    "    kernel[int(kernelSize[0] / 2), int(kernelSize[1] / 2), int(kernelSize[2] / 2)] = 1\n",
    "    kernel = gaussian_filter(kernel, kernelStd)\n",
    "    \n",
    "    res = np.zeros(img.shape, np.float32)\n",
    "    img = img.astype(np.float32)\n",
    "    guide = guide.astype(np.float32)\n",
    "    kernel = kernel.astype(np.float32)\n",
    "    \n",
    "    lib.NLM.restype = c_int\n",
    "    err = lib.NLM(res.ctypes.data_as(POINTER(c_float)), \n",
    "                  img.ctypes.data_as(POINTER(c_float)), \n",
    "                  guide.ctypes.data_as(POINTER(c_float)), \n",
    "                  kernel.ctypes.data_as(POINTER(c_float)), \n",
    "                  c_int(img.shape[2]), c_int(img.shape[1]), c_int(img.shape[0]), \n",
    "                  c_int(searchSize[2]), c_int(searchSize[1]), c_int(searchSize[0]), \n",
    "                  c_int(kernelSize[2]), c_int(kernelSize[1]), c_int(kernelSize[0]), \n",
    "                  c_float(d * d), c_float(eps))\n",
    "    \n",
    "    if not err == 0:\n",
    "        print (err)\n",
    "    \n",
    "    return res"
   ]
  },
  {
   "cell_type": "code",
   "execution_count": 1,
   "metadata": {},
   "outputs": [],
   "source": [
    "def TIPS(ctp, windowSize, stdTips, stdDist, eps = 1e-6, ssdOnly = 0):\n",
    "    res = np.zeros(ctp.shape, np.float32)\n",
    "    ctp = np.copy(ctp, 'C')\n",
    "    \n",
    "    lib.TIPS.restype = c_int\n",
    "    err = lib.TIPS(res.ctypes.data_as(POINTER(c_float)), \n",
    "                   ctp.ctypes.data_as(POINTER(c_float)), \n",
    "                   c_int(ctp.shape[0]), c_int(ctp.shape[1]), c_int(ctp.shape[2]), c_int(ctp.shape[3]), c_int(ctp.shape[4]), \n",
    "                   c_int(int(windowSize[0]/2)), c_int(int(windowSize[1]/2)), c_int(int(windowSize[2]/2)), \n",
    "                   c_float(stdTips * stdTips), c_float(stdDist * stdDist), c_float(eps), c_int(ssdOnly))\n",
    "    \n",
    "    if not err == 0:\n",
    "        print (err)\n",
    "    \n",
    "    return res"
   ]
  },
  {
   "cell_type": "code",
   "execution_count": 2,
   "metadata": {},
   "outputs": [],
   "source": [
    "if __name__ == '__main__':\n",
    "    import subprocess\n",
    "    subprocess.check_call(['jupyter', 'nbconvert', '--to', 'script', 'HYPR_NLM'])"
   ]
  },
  {
   "cell_type": "code",
   "execution_count": null,
   "metadata": {},
   "outputs": [],
   "source": []
  }
 ],
 "metadata": {
  "kernelspec": {
   "display_name": "Python 3",
   "language": "python",
   "name": "python3"
  },
  "language_info": {
   "codemirror_mode": {
    "name": "ipython",
    "version": 3
   },
   "file_extension": ".py",
   "mimetype": "text/x-python",
   "name": "python",
   "nbconvert_exporter": "python",
   "pygments_lexer": "ipython3",
   "version": "3.6.8"
  }
 },
 "nbformat": 4,
 "nbformat_minor": 2
}
