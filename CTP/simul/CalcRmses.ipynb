{
 "cells": [
  {
   "cell_type": "markdown",
   "metadata": {},
   "source": [
    "#### Calculate the RMSEs of CBF maps as the parameter selection standard"
   ]
  },
  {
   "cell_type": "code",
   "execution_count": 1,
   "metadata": {},
   "outputs": [],
   "source": [
    "import sys\n",
    "import numpy as np\n",
    "import matplotlib.pyplot as plt\n",
    "import glob\n",
    "import os\n",
    "import scipy.ndimage"
   ]
  },
  {
   "cell_type": "code",
   "execution_count": 2,
   "metadata": {},
   "outputs": [],
   "source": [
    "sys.path.append('../Preprocess')\n",
    "import CalcParaMaps\n",
    "import BiasCorrection"
   ]
  },
  {
   "cell_type": "code",
   "execution_count": 27,
   "metadata": {},
   "outputs": [],
   "source": [
    "imgNorm = 0.15\n",
    "iTests = np.arange(55,70)\n",
    "N0 = 100000"
   ]
  },
  {
   "cell_type": "code",
   "execution_count": 28,
   "metadata": {},
   "outputs": [],
   "source": [
    "# load reference\n",
    "with np.load('/home/dwu/trainData/Noise2Noise/train/ctp/simul/data/paras_tikh_0.3.npz') as f:\n",
    "    masks = f['mask'][iTests,...]\n",
    "    cbfFac = f['cbfFac']\n",
    "aif = np.load('/home/dwu/trainData/Noise2Noise/train/ctp/simul/data/aif0.npy') / 1000 / imgNorm\n",
    "refs = (np.load('/home/dwu/trainData/Noise2Noise/train/ctp/simul/data/imgs_-1.npy')[iTests, ...] - 1) / imgNorm\n",
    "imgs = (np.load('/home/dwu/trainData/Noise2Noise/train/ctp/simul/data/imgs_%g.npy'%N0)[iTests, ...] - 1) / imgNorm"
   ]
  },
  {
   "cell_type": "code",
   "execution_count": 29,
   "metadata": {},
   "outputs": [],
   "source": [
    "maskVessels = np.where(np.max(imgs, -1) > 0.1 / imgNorm, 1, 0)\n",
    "maskVessels *= masks\n",
    "for i in range(maskVessels.shape[0]):\n",
    "    maskVessels[i,...] = scipy.ndimage.morphology.binary_dilation(maskVessels[i,...])\n",
    "masks *= (1-maskVessels)\n",
    "\n",
    "refs *= masks[...,np.newaxis]\n",
    "imgs *= masks[...,np.newaxis]"
   ]
  },
  {
   "cell_type": "code",
   "execution_count": 30,
   "metadata": {},
   "outputs": [],
   "source": [
    "cbf0, _, _ = CalcParaMaps.CalcParaMaps(refs - refs[...,[0]], masks, kappa=1, rho=1, aif = np.copy(aif))\n",
    "cbf0 *= cbfFac\n",
    "ctps = imgs - (imgs[...,[0]] + imgs[...,[1]]) / 2"
   ]
  },
  {
   "cell_type": "code",
   "execution_count": 31,
   "metadata": {},
   "outputs": [
    {
     "name": "stdout",
     "output_type": "stream",
     "text": [
      "0,1,2,3,4,"
     ]
    }
   ],
   "source": [
    "# Calc all the rmses for Noise2Noise\n",
    "filenames = glob.glob('/home/dwu/trainData/Noise2Noise/train/ctp/simul/beta_*_N0_%g/tmp/iodines.npy'%N0)\n",
    "for i, filename in enumerate(filenames):\n",
    "    print (i, end=',')\n",
    "    tac = np.load(filename)[iTests,...].transpose(0, 2, 3, 1) * 0.025 / imgNorm\n",
    "    bc = BiasCorrection.BiasCorrection(tac, ctps, masks[...,np.newaxis])\n",
    "    cbf,_,_ = CalcParaMaps.CalcParaMaps(bc, masks, kappa=1, rho=1, aif=np.copy(aif))\n",
    "    cbf *= cbfFac\n",
    "    \n",
    "    rmses = np.sqrt(np.sum((cbf - cbf0)**2 * masks, (1,2)) / np.sum(masks, (1,2)))\n",
    "#     print (np.mean(rmses))\n",
    "    \n",
    "    np.save(os.path.join(os.path.dirname(filename), 'rmse_cbf'), rmses)"
   ]
  },
  {
   "cell_type": "code",
   "execution_count": 32,
   "metadata": {},
   "outputs": [
    {
     "name": "stdout",
     "output_type": "stream",
     "text": [
      "0,1,2,3,4,"
     ]
    }
   ],
   "source": [
    "# Calc all the rmses for Supervised\n",
    "filenames = glob.glob('/home/dwu/trainData/Noise2Noise/train/ctp/simul/supervised_beta_*_N0_%g/tmp/iodines.npy'%N0)\n",
    "for i, filename in enumerate(filenames):\n",
    "    print (i, end=',')\n",
    "    tac = np.load(filename)[iTests,...].transpose(0, 2, 3, 1) * 0.025 / imgNorm\n",
    "    bc = BiasCorrection.BiasCorrection(tac, ctps, masks[...,np.newaxis])\n",
    "    cbf,_,_ = CalcParaMaps.CalcParaMaps(bc, masks, kappa=1, rho=1, aif=np.copy(aif))\n",
    "    cbf *= cbfFac\n",
    "    \n",
    "    rmses = np.sqrt(np.sum((cbf - cbf0)**2 * masks, (1,2)) / np.sum(masks, (1,2)))\n",
    "    \n",
    "    np.save(os.path.join(os.path.dirname(filename), 'rmse_cbf'), rmses)"
   ]
  },
  {
   "cell_type": "code",
   "execution_count": null,
   "metadata": {},
   "outputs": [],
   "source": []
  }
 ],
 "metadata": {
  "kernelspec": {
   "display_name": "Python 3",
   "language": "python",
   "name": "python3"
  },
  "language_info": {
   "codemirror_mode": {
    "name": "ipython",
    "version": 3
   },
   "file_extension": ".py",
   "mimetype": "text/x-python",
   "name": "python",
   "nbconvert_exporter": "python",
   "pygments_lexer": "ipython3",
   "version": "3.6.9"
  }
 },
 "nbformat": 4,
 "nbformat_minor": 4
}
