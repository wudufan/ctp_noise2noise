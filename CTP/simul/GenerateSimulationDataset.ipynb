{
 "cells": [
  {
   "cell_type": "code",
   "execution_count": 1,
   "metadata": {},
   "outputs": [],
   "source": [
    "import numpy as np\n",
    "import matplotlib.pyplot as plt\n",
    "%matplotlib inline\n",
    "import glob\n",
    "import os\n",
    "import scipy"
   ]
  },
  {
   "cell_type": "code",
   "execution_count": 2,
   "metadata": {},
   "outputs": [],
   "source": [
    "import sys\n",
    "sys.path.append('../Preprocess')\n",
    "import CalcParaMaps\n",
    "import CTPPreprocess"
   ]
  },
  {
   "cell_type": "code",
   "execution_count": 3,
   "metadata": {},
   "outputs": [],
   "source": [
    "def ReadImg(filename, iSlices, nx = 256, ny = 256):\n",
    "    with open(filename, 'rb') as f:\n",
    "        f.seek(nx*ny*iSlices[0]*4)\n",
    "        img = np.fromfile(f, np.float32, nx*ny*len(iSlices)).reshape([len(iSlices), nx, ny])\n",
    "    \n",
    "    return img"
   ]
  },
  {
   "cell_type": "code",
   "execution_count": 4,
   "metadata": {},
   "outputs": [],
   "source": [
    "inputDir = '/home/dwu/trainData/Noise2Noise/train/ctp/phantom/'\n",
    "outputDir = '/home/dwu/trainData/Noise2Noise/train/ctp/simul/data/'\n",
    "if not os.path.exists(outputDir):\n",
    "    os.makedirs(outputDir)"
   ]
  },
  {
   "cell_type": "code",
   "execution_count": 5,
   "metadata": {},
   "outputs": [],
   "source": [
    "nx = 256\n",
    "ny = 256\n",
    "iSlices = np.arange(100, 170)\n",
    "iAifSlice = 49\n",
    "nFrames = 50"
   ]
  },
  {
   "cell_type": "code",
   "execution_count": 6,
   "metadata": {},
   "outputs": [],
   "source": [
    "# read all the images\n",
    "imgs = []\n",
    "for i in range(nFrames):\n",
    "    img = ReadImg(os.path.join(inputDir, str(i+1)), iSlices)\n",
    "    imgs.append(img[...,np.newaxis])\n",
    "imgs = np.concatenate(imgs, -1)\n",
    "np.save(os.path.join(outputDir, 'refs.npy'), imgs)"
   ]
  },
  {
   "cell_type": "code",
   "execution_count": 7,
   "metadata": {},
   "outputs": [],
   "source": [
    "# read all the paametric ground truth\n",
    "cbf0 = ReadImg(os.path.join(inputDir, 'cbf'), iSlices)\n",
    "cbv0 = ReadImg(os.path.join(inputDir, 'cbv'), iSlices)\n",
    "mtt0 = ReadImg(os.path.join(inputDir, 'mtt'), iSlices)\n",
    "baseline0 = ReadImg(os.path.join(inputDir, 'baseline'), iSlices)\n",
    "np.savez(os.path.join(outputDir, 'paras0'), cbf=cbf0, cbv=cbv0, mtt=mtt0, baseline=baseline0)"
   ]
  },
  {
   "cell_type": "code",
   "execution_count": 8,
   "metadata": {},
   "outputs": [],
   "source": [
    "# get the aif\n",
    "ctps = imgs - imgs[...,[0]]\n",
    "mask = np.where(ctps[...,25] > 0, 1, 0)\n",
    "aif, _ = CTPPreprocess.GetVOF(ctps[[iAifSlice], ..., :])\n",
    "aif[aif < 0] = 0\n",
    "np.save(os.path.join(outputDir, 'aif0'), aif)"
   ]
  },
  {
   "cell_type": "code",
   "execution_count": 12,
   "metadata": {},
   "outputs": [],
   "source": [
    "# calculate all the parametric maps\n",
    "cbf, cbv, mtt = CalcParaMaps.CalcParaMaps(ctps, mask, method='tikh', lam = 0.3, kappa=1, rho=1, \n",
    "                                          aif = np.copy(aif), useCircConv=True, N=None)"
   ]
  },
  {
   "cell_type": "code",
   "execution_count": 13,
   "metadata": {},
   "outputs": [
    {
     "name": "stdout",
     "output_type": "stream",
     "text": [
      "2.7970992833304646\n",
      "1.1315869383762456\n"
     ]
    }
   ],
   "source": [
    "facMask = np.where(ctps[...,25] * mask < 9, 1, 0) * mask\n",
    "cbfFac = np.sum(cbf0 * facMask) / np.sum(cbf * facMask)\n",
    "print (cbfFac)\n",
    "\n",
    "cbvFac = np.sum(cbv0 * facMask) / np.sum(cbv * facMask)\n",
    "print (cbvFac)\n",
    "\n",
    "cbf *= cbfFac\n",
    "cbv *= cbvFac\n",
    "mtt = mtt / cbfFac * cbvFac"
   ]
  },
  {
   "cell_type": "code",
   "execution_count": 15,
   "metadata": {},
   "outputs": [],
   "source": [
    "# save parametric maps and correction factor\n",
    "np.savez(os.path.join(outputDir, 'paras_tikh_0.3'), cbf=cbf, cbv=cbv, mtt=mtt, mask=mask, cbfFac=cbfFac, cbvFac = cbvFac)"
   ]
  },
  {
   "cell_type": "code",
   "execution_count": null,
   "metadata": {},
   "outputs": [],
   "source": []
  }
 ],
 "metadata": {
  "kernelspec": {
   "display_name": "Python 3",
   "language": "python",
   "name": "python3"
  },
  "language_info": {
   "codemirror_mode": {
    "name": "ipython",
    "version": 3
   },
   "file_extension": ".py",
   "mimetype": "text/x-python",
   "name": "python",
   "nbconvert_exporter": "python",
   "pygments_lexer": "ipython3",
   "version": "3.6.9"
  }
 },
 "nbformat": 4,
 "nbformat_minor": 4
}
