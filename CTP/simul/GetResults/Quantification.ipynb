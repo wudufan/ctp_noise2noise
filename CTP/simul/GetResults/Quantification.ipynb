{
 "cells": [
  {
   "cell_type": "markdown",
   "metadata": {},
   "source": [
    "#### calculate RMSE and SSIM"
   ]
  },
  {
   "cell_type": "code",
   "execution_count": 1,
   "metadata": {},
   "outputs": [],
   "source": [
    "import numpy as np\n",
    "import matplotlib.pyplot as plt\n",
    "import glob\n",
    "import os\n",
    "import sys\n",
    "import scipy.ndimage\n",
    "import matplotlib.cm\n",
    "import imageio\n",
    "import skimage"
   ]
  },
  {
   "cell_type": "code",
   "execution_count": 2,
   "metadata": {},
   "outputs": [],
   "source": [
    "sys.path.append('../../Preprocess/')\n",
    "import CalcParaMaps\n",
    "import BiasCorrection"
   ]
  },
  {
   "cell_type": "code",
   "execution_count": 34,
   "metadata": {},
   "outputs": [],
   "source": [
    "frames = {}\n",
    "cbfs = {}\n",
    "cbvs = {}\n",
    "mtts = {}\n",
    "ttps = {}\n",
    "N0 = 100000\n",
    "imgNorm = 0.15\n",
    "iTests = np.arange(55,70)"
   ]
  },
  {
   "cell_type": "code",
   "execution_count": 35,
   "metadata": {},
   "outputs": [],
   "source": [
    "# optimal parameters\n",
    "params = {\n",
    "    100000: {'gauss': '2', 'tips': '0.075_3', 'tv': '7.5e-4_1e-4', 'n2n': '25', 'sup': '12.5'},\n",
    "    200000: {'gauss': '2', 'tips': '0.05_2', 'tv': '5e-4_1e-4', 'n2n': '12.5', 'sup': '12.5'},\n",
    "    1e+06: {'gauss': '1', 'tips': '0.025_2', 'tv': '1e-4_1e-4', 'n2n': '12.5', 'sup': '0'}\n",
    "}"
   ]
  },
  {
   "cell_type": "code",
   "execution_count": 36,
   "metadata": {},
   "outputs": [],
   "source": [
    "# read references\n",
    "with np.load('/home/dwu/trainData/Noise2Noise/train/ctp/simul/data/paras_tikh_0.3.npz') as f:\n",
    "    mask = f['mask'][iTests, ...]\n",
    "    cbfFac = f['cbfFac']\n",
    "    cbvFac = f['cbvFac']\n",
    "aif = np.load('/home/dwu/trainData/Noise2Noise/train/ctp/simul/data/aif0.npy') / 1000 / imgNorm\n",
    "ref = (np.load('/home/dwu/trainData/Noise2Noise/train/ctp/simul/data/imgs_-1.npy')[iTests, ...] - 1) / imgNorm\n",
    "img = (np.load('/home/dwu/trainData/Noise2Noise/train/ctp/simul/data/imgs_%g.npy'%N0)[iTests, ...] - 1) / imgNorm"
   ]
  },
  {
   "cell_type": "code",
   "execution_count": 37,
   "metadata": {},
   "outputs": [],
   "source": [
    "# vessel mask from img\n",
    "maskVessels = np.where(np.max(img, -1) > 0.1 / imgNorm, 1, 0)\n",
    "maskVessels *= mask\n",
    "for i in range(maskVessels.shape[0]):\n",
    "    maskVessels[i,...] = scipy.ndimage.morphology.binary_dilation(maskVessels[i,...])\n",
    "mask *= (1-maskVessels)\n",
    "\n",
    "img *= mask[...,np.newaxis]\n",
    "ref *= mask[...,np.newaxis]\n",
    "ctp = img - (img[...,[0]] + img[...,[1]]) / 2\n",
    "refCtp = ref - ref[...,[0]]"
   ]
  },
  {
   "cell_type": "code",
   "execution_count": 38,
   "metadata": {},
   "outputs": [],
   "source": [
    "def GetResults(ctp, aif, mask, cbfFac, cbvFac):\n",
    "    cbf, cbv, mtt = CalcParaMaps.CalcParaMaps(ctp, mask[...,np.newaxis], kappa = 1, rho = 1, aif = np.copy(aif), directCBV = False)\n",
    "    cbf *= cbfFac\n",
    "    cbv *= cbvFac\n",
    "    mtt = mtt / cbfFac * cbvFac\n",
    "    ttp = np.argmax(ctp, -1)\n",
    "    \n",
    "    return cbf * mask, cbv * mask, mtt * mask, ttp * mask"
   ]
  },
  {
   "cell_type": "code",
   "execution_count": 39,
   "metadata": {},
   "outputs": [],
   "source": [
    "def RMSE(src, ref, mask, th = None):\n",
    "    if th is not None:\n",
    "        src[src < th[0]] = th[0]\n",
    "        src[src > th[1]] = th[1]\n",
    "    return np.sqrt(np.sum((src - ref)**2 * mask, (1,2)) / np.sum(mask, (1,2)))\n",
    "\n",
    "def SSIM(src, ref, mask, th = None):\n",
    "    if th is not None:\n",
    "        src[src < th[0]] = th[0]\n",
    "        src[src > th[1]] = th[1]\n",
    "    ssims = []\n",
    "    for iSlice in range(src.shape[0]):\n",
    "        maskSlice = mask[iSlice, ...]\n",
    "        srcSlice = src[iSlice, ...] * maskSlice\n",
    "        refSlice = ref[iSlice, ...] * maskSlice\n",
    "        _, s = skimage.measure.compare_ssim(srcSlice, refSlice, data_range = srcSlice.max() - srcSlice.min(), full=True)\n",
    "        \n",
    "        s = np.sum(s * maskSlice) / np.sum(maskSlice)\n",
    "        ssims.append(s)\n",
    "    \n",
    "    return np.array(ssims)\n",
    "\n",
    "def SSIMTime(src, ref, mask):\n",
    "    ssims = []\n",
    "    for iSlice in range(src.shape[0]):\n",
    "        ssimSlice = []\n",
    "        for iFrame in range(src.shape[-1]):\n",
    "            maskSlice = mask[iSlice, ...]\n",
    "            srcSlice = src[iSlice, ..., iFrame] * maskSlice\n",
    "            refSlice = ref[iSlice, ..., iFrame] * maskSlice\n",
    "            _, s = skimage.measure.compare_ssim(srcSlice, refSlice, data_range = srcSlice.max() - srcSlice.min() + 1e-6, full=True)\n",
    "\n",
    "            s = np.sum(s * maskSlice) / np.sum(maskSlice)\n",
    "            ssimSlice.append(s)\n",
    "        \n",
    "        ssims.append(ssimSlice)\n",
    "    \n",
    "    return np.array(ssims)"
   ]
  },
  {
   "cell_type": "code",
   "execution_count": 40,
   "metadata": {},
   "outputs": [],
   "source": [
    "# paramaps for reference\n",
    "cbf0, cbv0, mtt0, ttp0 = GetResults(refCtp, aif, mask, cbfFac, cbvFac)"
   ]
  },
  {
   "cell_type": "code",
   "execution_count": 41,
   "metadata": {},
   "outputs": [],
   "source": [
    "# paramaps for unfiltered\n",
    "gauss = np.load('/home/dwu/trainData/Noise2Noise/train/ctp/simul/gaussian/Gaussian_std_0_N0_%g.npy'%N0)\n",
    "cbf, cbv, mtt, ttp = GetResults(gauss, aif, mask, cbfFac, cbvFac)\n",
    "\n",
    "name = 'raw'\n",
    "frames[name] = [RMSE(gauss, refCtp, mask[...,np.newaxis]), SSIMTime(gauss, refCtp, mask)]\n",
    "cbfs[name] = [RMSE(cbf, cbf0, mask), SSIM(cbf, cbf0, mask)]\n",
    "cbvs[name] = [RMSE(cbv, cbv0, mask), SSIM(cbv, cbv0, mask)]\n",
    "mtts[name] = [RMSE(mtt, mtt0, mask, [0, 10]), SSIM(mtt, mtt0, mask, [0, 10])]\n",
    "ttps[name] = [RMSE(ttp, ttp0, mask), SSIM(ttp, ttp0, mask)]"
   ]
  },
  {
   "cell_type": "code",
   "execution_count": 42,
   "metadata": {},
   "outputs": [],
   "source": [
    "# paramaps for gaussian\n",
    "name = 'gauss'\n",
    "gauss = np.load('/home/dwu/trainData/Noise2Noise/train/ctp/simul/gaussian/Gaussian_std_%s_N0_%g.npy'%(params[N0][name], N0))\n",
    "cbf, cbv, mtt, ttp = GetResults(gauss, aif, mask, cbfFac, cbvFac)\n",
    "\n",
    "frames[name] = [RMSE(gauss, refCtp, mask[...,np.newaxis]), SSIMTime(gauss, refCtp, mask)]\n",
    "cbfs[name] = [RMSE(cbf, cbf0, mask), SSIM(cbf, cbf0, mask)]\n",
    "cbvs[name] = [RMSE(cbv, cbv0, mask), SSIM(cbv, cbv0, mask)]\n",
    "mtts[name] = [RMSE(mtt, mtt0, mask, [0, 10]), SSIM(mtt, mtt0, mask, [0, 10])]\n",
    "ttps[name] = [RMSE(ttp, ttp0, mask), SSIM(ttp, ttp0, mask)]"
   ]
  },
  {
   "cell_type": "code",
   "execution_count": 43,
   "metadata": {},
   "outputs": [],
   "source": [
    "# paramaps for TIPS\n",
    "name = 'tips'\n",
    "tips = np.load('/home/dwu/trainData/Noise2Noise/train/ctp/simul/tips/TIPS_sigma_%s_N0_%g.npz.npy'%(params[N0][name], N0))\n",
    "cbf, cbv, mtt, ttp = GetResults(tips, aif, mask, cbfFac, cbvFac)\n",
    "\n",
    "frames[name] = [RMSE(tips, refCtp, mask[...,np.newaxis]), SSIMTime(tips, refCtp, mask)]\n",
    "cbfs[name] = [RMSE(cbf, cbf0, mask), SSIM(cbf, cbf0, mask)]\n",
    "cbvs[name] = [RMSE(cbv, cbv0, mask), SSIM(cbv, cbv0, mask)]\n",
    "mtts[name] = [RMSE(mtt, mtt0, mask, [0, 10]), SSIM(mtt, mtt0, mask, [0, 10])]\n",
    "ttps[name] = [RMSE(ttp, ttp0, mask), SSIM(ttp, ttp0, mask)]"
   ]
  },
  {
   "cell_type": "code",
   "execution_count": 44,
   "metadata": {},
   "outputs": [],
   "source": [
    "# paramaps for TV\n",
    "# this is a little different\n",
    "name = 'tv'\n",
    "with np.load('/home/dwu/trainData/Noise2Noise/train/ctp/simul/tv/TV_beta_%s_N0_%g.npz'%(params[N0][name], N0)) as f:\n",
    "    cbf = f['cbf'] * mask\n",
    "    cbv = f['cbv'] * mask * cbvFac\n",
    "    mtt = f['mtt'] * mask * cbvFac\n",
    "    ttp = f['ttp'] * mask\n",
    "\n",
    "# frames[name] = [RMSE(tips, refCtp, mask[...,np.newaxis]), SSIMTime(tips, refCtp, mask)]\n",
    "cbfs[name] = [RMSE(cbf, cbf0, mask), SSIM(cbf, cbf0, mask)]\n",
    "cbvs[name] = [RMSE(cbv, cbv0, mask), SSIM(cbv, cbv0, mask)]\n",
    "mtts[name] = [RMSE(mtt, mtt0, mask, [0, 10]), SSIM(mtt, mtt0, mask, [0, 10])]\n",
    "ttps[name] = [RMSE(ttp, ttp0, mask), SSIM(ttp, ttp0, mask)]"
   ]
  },
  {
   "cell_type": "code",
   "execution_count": 45,
   "metadata": {},
   "outputs": [],
   "source": [
    "# paramaps for Noise2Noise\n",
    "name = 'n2n'\n",
    "n2n = np.load('/home/dwu/trainData/Noise2Noise/train/ctp/simul/beta_%s_N0_%g/tmp/iodines.npy'%(params[N0][name], N0))[iTests, ...].transpose(0, 2, 3, 1) * 0.025 / imgNorm\n",
    "# n2n = BiasCorrection.BiasCorrection(n2n, ctp, mask[...,np.newaxis])\n",
    "cbf, cbv, mtt, ttp = GetResults(n2n, aif, mask, cbfFac, cbvFac)\n",
    "\n",
    "frames[name] = [RMSE(n2n, refCtp, mask[...,np.newaxis]), SSIMTime(n2n, refCtp, mask)]\n",
    "cbfs[name] = [RMSE(cbf, cbf0, mask), SSIM(cbf, cbf0, mask)]\n",
    "cbvs[name] = [RMSE(cbv, cbv0, mask), SSIM(cbv, cbv0, mask)]\n",
    "mtts[name] = [RMSE(mtt, mtt0, mask, [0, 10]), SSIM(mtt, mtt0, mask, [0, 10])]\n",
    "ttps[name] = [RMSE(ttp, ttp0, mask), SSIM(ttp, ttp0, mask)]"
   ]
  },
  {
   "cell_type": "code",
   "execution_count": 46,
   "metadata": {},
   "outputs": [],
   "source": [
    "# paramaps for supervised\n",
    "name = 'sup'\n",
    "sup = np.load('/home/dwu/trainData/Noise2Noise/train/ctp/simul/supervised_beta_%s_N0_%g/tmp/iodines.npy'%(params[N0][name], N0))[iTests, ...].transpose(0, 2, 3, 1) * 0.025 / imgNorm\n",
    "# sup = BiasCorrection.BiasCorrection(sup, ctp, mask[...,np.newaxis])\n",
    "cbf, cbv, mtt, ttp = GetResults(sup, aif, mask, cbfFac, cbvFac)\n",
    "\n",
    "frames[name] = [RMSE(sup, refCtp, mask[...,np.newaxis]), SSIMTime(sup, refCtp, mask)]\n",
    "cbfs[name] = [RMSE(cbf, cbf0, mask), SSIM(cbf, cbf0, mask)]\n",
    "cbvs[name] = [RMSE(cbv, cbv0, mask), SSIM(cbv, cbv0, mask)]\n",
    "mtts[name] = [RMSE(mtt, mtt0, mask, [0, 10]), SSIM(mtt, mtt0, mask, [0, 10])]\n",
    "ttps[name] = [RMSE(ttp, ttp0, mask), SSIM(ttp, ttp0, mask)]"
   ]
  },
  {
   "cell_type": "code",
   "execution_count": 47,
   "metadata": {},
   "outputs": [],
   "source": [
    "# save all the data\n",
    "outDir = '/home/dwu/trainData/Noise2Noise/train/ctp/results/simul/quantification'\n",
    "if not os.path.exists(outDir):\n",
    "    os.makedirs(outDir)\n",
    "np.savez(os.path.join(outDir, 'rmse_ssim_%g'%N0), frames = frames, cbfs = cbfs, cbvs = cbvs, mtts = mtts, ttps = ttps)"
   ]
  },
  {
   "cell_type": "code",
   "execution_count": 48,
   "metadata": {},
   "outputs": [
    {
     "name": "stdout",
     "output_type": "stream",
     "text": [
      "raw [20.24007109  0.38977341]\n",
      "gauss [5.56558539 0.75418261]\n",
      "tips [4.78185902 0.78576604]\n",
      "tv [9.49342699 0.61082187]\n",
      "n2n [4.29339435 0.83941159]\n",
      "sup [3.77868921 0.86162251]\n"
     ]
    }
   ],
   "source": [
    "for k in cbfs:\n",
    "    print (k, np.mean(cbfs[k], 1))"
   ]
  },
  {
   "cell_type": "code",
   "execution_count": null,
   "metadata": {},
   "outputs": [],
   "source": []
  }
 ],
 "metadata": {
  "kernelspec": {
   "display_name": "Python 3",
   "language": "python",
   "name": "python3"
  },
  "language_info": {
   "codemirror_mode": {
    "name": "ipython",
    "version": 3
   },
   "file_extension": ".py",
   "mimetype": "text/x-python",
   "name": "python",
   "nbconvert_exporter": "python",
   "pygments_lexer": "ipython3",
   "version": "3.6.9"
  }
 },
 "nbformat": 4,
 "nbformat_minor": 4
}
