{
 "cells": [
  {
   "cell_type": "code",
   "execution_count": 1,
   "metadata": {},
   "outputs": [
    {
     "name": "stderr",
     "output_type": "stream",
     "text": [
      "/home/dwu/anaconda3/envs/tf1.11/lib/python3.6/site-packages/tensorflow/python/framework/dtypes.py:523: FutureWarning: Passing (type, 1) or '1type' as a synonym of type is deprecated; in a future version of numpy, it will be understood as (type, (1,)) / '(1,)type'.\n",
      "  _np_qint8 = np.dtype([(\"qint8\", np.int8, 1)])\n",
      "/home/dwu/anaconda3/envs/tf1.11/lib/python3.6/site-packages/tensorflow/python/framework/dtypes.py:524: FutureWarning: Passing (type, 1) or '1type' as a synonym of type is deprecated; in a future version of numpy, it will be understood as (type, (1,)) / '(1,)type'.\n",
      "  _np_quint8 = np.dtype([(\"quint8\", np.uint8, 1)])\n",
      "/home/dwu/anaconda3/envs/tf1.11/lib/python3.6/site-packages/tensorflow/python/framework/dtypes.py:525: FutureWarning: Passing (type, 1) or '1type' as a synonym of type is deprecated; in a future version of numpy, it will be understood as (type, (1,)) / '(1,)type'.\n",
      "  _np_qint16 = np.dtype([(\"qint16\", np.int16, 1)])\n",
      "/home/dwu/anaconda3/envs/tf1.11/lib/python3.6/site-packages/tensorflow/python/framework/dtypes.py:526: FutureWarning: Passing (type, 1) or '1type' as a synonym of type is deprecated; in a future version of numpy, it will be understood as (type, (1,)) / '(1,)type'.\n",
      "  _np_quint16 = np.dtype([(\"quint16\", np.uint16, 1)])\n",
      "/home/dwu/anaconda3/envs/tf1.11/lib/python3.6/site-packages/tensorflow/python/framework/dtypes.py:527: FutureWarning: Passing (type, 1) or '1type' as a synonym of type is deprecated; in a future version of numpy, it will be understood as (type, (1,)) / '(1,)type'.\n",
      "  _np_qint32 = np.dtype([(\"qint32\", np.int32, 1)])\n",
      "/home/dwu/anaconda3/envs/tf1.11/lib/python3.6/site-packages/tensorflow/python/framework/dtypes.py:532: FutureWarning: Passing (type, 1) or '1type' as a synonym of type is deprecated; in a future version of numpy, it will be understood as (type, (1,)) / '(1,)type'.\n",
      "  np_resource = np.dtype([(\"resource\", np.ubyte, 1)])\n"
     ]
    }
   ],
   "source": [
    "import tensorflow as tf\n",
    "import numpy as np\n",
    "import os\n",
    "import sys\n",
    "import scipy\n",
    "import scipy.signal\n",
    "import glob"
   ]
  },
  {
   "cell_type": "code",
   "execution_count": 6,
   "metadata": {},
   "outputs": [],
   "source": [
    "import UNet\n",
    "\n",
    "sys.path.append('../Preprocess')\n",
    "import CTPPreprocess as preprocess\n",
    "import CalcParaMaps as paramaps\n",
    "\n",
    "sys.path.append('../../')\n",
    "import helper"
   ]
  },
  {
   "cell_type": "code",
   "execution_count": 31,
   "metadata": {},
   "outputs": [
    {
     "data": {
      "text/plain": [
       "_StoreAction(option_strings=['--imgOffsetOut'], dest='imgOffsetOut', nargs=None, const=None, default=0, type=<class 'float'>, choices=None, help=None, metavar=None)"
      ]
     },
     "execution_count": 31,
     "metadata": {},
     "output_type": "execute_result"
    }
   ],
   "source": [
    "import argparse\n",
    "parser = argparse.ArgumentParser(description = 'ctp noise2noise netwok')\n",
    "parser.add_argument('--imgFile', type=str, default='/home/dwu/trainData/Noise2Noise/train/ctp/simul/data/imgs_100000.npy')\n",
    "parser.add_argument('--refFile', type=str, default='/home/dwu/trainData/Noise2Noise/train/ctp/simul/data/imgs_-1.npy')\n",
    "parser.add_argument('--paraFile', type=str, default='/home/dwu/trainData/Noise2Noise/train/ctp/simul/data/paras_tikh_0.3.npz')\n",
    "parser.add_argument('--aifFile', type=str, default='/home/dwu/trainData/Noise2Noise/train/ctp/simul/data/aif0.npy')\n",
    "parser.add_argument('--nTest', type=int, default=-1)\n",
    "\n",
    "# paths\n",
    "parser.add_argument('--checkPoint', type=str, default=None)\n",
    "parser.add_argument('--outFile', type=str, default=None)\n",
    "\n",
    "# general network training\n",
    "parser.add_argument('--device', type=int, default=0)\n",
    "\n",
    "parser.add_argument('--imgNormIn', type=float, default=0.15)\n",
    "parser.add_argument('--imgOffsetIn', type=float, default=-1)\n",
    "\n",
    "parser.add_argument('--imgNormOut', type=float, default=0.025)\n",
    "parser.add_argument('--imgOffsetOut', type=float, default=0)"
   ]
  },
  {
   "cell_type": "code",
   "execution_count": 32,
   "metadata": {},
   "outputs": [],
   "source": [
    "tf.reset_default_graph()\n",
    "net = UNet.UNet()\n",
    "parser = net.AddArgsToArgParser(parser)"
   ]
  },
  {
   "cell_type": "code",
   "execution_count": 33,
   "metadata": {},
   "outputs": [
    {
     "name": "stdout",
     "output_type": "stream",
     "text": [
      "imgFile: /home/dwu/trainData/Noise2Noise/train/ctp/simul/data/imgs_200000.npy\n",
      "refFile: /home/dwu/trainData/Noise2Noise/train/ctp/simul/data/imgs_-1.npy\n",
      "paraFile: /home/dwu/trainData/Noise2Noise/train/ctp/simul/data/paras_tikh_0.3.npz\n",
      "aifFile: /home/dwu/trainData/Noise2Noise/train/ctp/simul/data/aif0.npy\n",
      "nTest: -1\n",
      "checkPoint: /home/dwu/trainData/Noise2Noise/train/ctp/simul/beta_0_N0_200000/24\n",
      "outFile: /home/dwu/trainData/Noise2Noise/train/ctp/simul/beta_0_N0_200000/tmp/iodines_24.npy\n",
      "device: 0\n",
      "imgNormIn: 0.15\n",
      "imgOffsetIn: -1\n",
      "imgNormOut: 0.025\n",
      "imgOffsetOut: 0\n",
      "scope: unet2d\n",
      "imgshapeIn: [256, 256, 1]\n",
      "imgshapeOut: [256, 256, 1]\n",
      "nFilters: 32\n",
      "filterSz: [3, 3, 3]\n",
      "depth: 4\n",
      "model: unet\n",
      "bn: 0\n",
      "beta: 0\n",
      "biasKernelSz: 37\n",
      "biasKernelStd: 6\n"
     ]
    }
   ],
   "source": [
    "if sys.argv[0] != 'TestNetwork.py':\n",
    "    from IPython import display\n",
    "    import matplotlib.pyplot as plt\n",
    "    %matplotlib inline\n",
    "    args = parser.parse_args(['--device', '0',\n",
    "                              '--imgFile', '/home/dwu/trainData/Noise2Noise/train/ctp/simul/data/imgs_200000.npy',\n",
    "                              '--checkPoint', '/home/dwu/trainData/Noise2Noise/train/ctp/simul/beta_0_N0_200000/24',\n",
    "                              '--nTest', '-1',\n",
    "                              '--outFile', '/home/dwu/trainData/Noise2Noise/train/ctp/simul/beta_0_N0_200000/tmp/iodines_24.npy'])\n",
    "else:\n",
    "    args = parser.parse_args(sys.argv[1:])\n",
    "\n",
    "for k in args.__dict__:\n",
    "    print (k, args.__dict__[k], sep=': ', flush=True)"
   ]
  },
  {
   "cell_type": "code",
   "execution_count": 34,
   "metadata": {},
   "outputs": [],
   "source": [
    "tf.reset_default_graph()\n",
    "net = UNet.UNet()\n",
    "net.FromParser(args)\n",
    "net.imgshapeIn[-1] = net.imgshapeIn[-1] + 1\n",
    "net.BuildModel()\n",
    "\n",
    "loader = tf.train.Saver()\n",
    "if not os.path.exists(os.path.dirname(args.outFile)):\n",
    "    os.makedirs(os.path.dirname(args.outFile))"
   ]
  },
  {
   "cell_type": "code",
   "execution_count": 35,
   "metadata": {},
   "outputs": [],
   "source": [
    "# load the image data\n",
    "imgs = np.load(args.imgFile) - 1\n",
    "refs = np.load(args.refFile) - 1"
   ]
  },
  {
   "cell_type": "code",
   "execution_count": 36,
   "metadata": {},
   "outputs": [],
   "source": [
    "# load param files\n",
    "with np.load(args.paraFile) as f:\n",
    "    cbf0 = f['cbf']\n",
    "    cbv0 = f['cbv']\n",
    "    mtt0 = f['mtt']\n",
    "    masks = f['mask'][..., np.newaxis]\n",
    "    cbfFac = f['cbfFac']\n",
    "aif0 = np.load(args.aifFile) / 1000\n",
    "\n",
    "maskVessels = np.where(np.max(imgs, -1) > 0.1, 1, 0)[...,np.newaxis]\n",
    "maskVessels *= masks\n",
    "for i in range(maskVessels.shape[0]):\n",
    "    maskVessels[i,...,0] = scipy.ndimage.morphology.binary_dilation(maskVessels[i,...,0])\n",
    "masks *= (1-maskVessels)\n",
    "\n",
    "imgs *= np.tile(masks, (1,1,1,imgs.shape[-1]))\n",
    "refs *= np.tile(masks, (1,1,1,imgs.shape[-1]))"
   ]
  },
  {
   "cell_type": "code",
   "execution_count": 37,
   "metadata": {},
   "outputs": [],
   "source": [
    "def TestSequence(sess, net, imgs, args, iSlices = None):\n",
    "    if iSlices is None:\n",
    "        iSlices = [np.random.randint(imgs.shape[0])]\n",
    "    elif iSlices == -1:\n",
    "        iSlices = list(range(imgs.shape[0]))\n",
    "    print (iSlices)\n",
    "    \n",
    "    imgNormIn = args.imgNormIn\n",
    "    imgOffsetIn = args.imgOffsetIn\n",
    "    \n",
    "    imgs = imgs[iSlices, ...]\n",
    "    recons = []\n",
    "    for i in range(imgs.shape[-1]):\n",
    "        print (i, end=',')\n",
    "        inputImg1 = np.concatenate((imgs[..., [i]], imgs[..., [0]]), -1)\n",
    "        inputImg2 = np.concatenate((imgs[..., [i]], imgs[..., [1]]), -1)\n",
    "        \n",
    "        recon1 = sess.run(net.recon, {net.x: inputImg1 / imgNormIn + imgOffsetIn})\n",
    "        recon2 = sess.run(net.recon, {net.x: inputImg2 / imgNormIn + imgOffsetIn})\n",
    "        \n",
    "        recon = (recon1 + recon2) / 2 - args.imgOffsetOut\n",
    "        recons.append(recon)\n",
    "    \n",
    "    recons = np.concatenate(recons, -1)\n",
    "\n",
    "    return recons, iSlices"
   ]
  },
  {
   "cell_type": "code",
   "execution_count": 38,
   "metadata": {},
   "outputs": [
    {
     "name": "stdout",
     "output_type": "stream",
     "text": [
      "INFO:tensorflow:Restoring parameters from /home/dwu/trainData/Noise2Noise/train/ctp/simul/beta_0_N0_200000/24\n"
     ]
    }
   ],
   "source": [
    "sess = tf.Session(config = tf.ConfigProto(gpu_options = tf.GPUOptions(visible_device_list='%s'%args.device, \n",
    "                                                                      allow_growth=True)))\n",
    "sess.run(tf.global_variables_initializer())\n",
    "loader.restore(sess, args.checkPoint)"
   ]
  },
  {
   "cell_type": "code",
   "execution_count": 39,
   "metadata": {},
   "outputs": [
    {
     "name": "stdout",
     "output_type": "stream",
     "text": [
      "Generating results\n",
      "[0, 1, 2, 3, 4, 5, 6, 7, 8, 9, 10, 11, 12, 13, 14, 15, 16, 17, 18, 19, 20, 21, 22, 23, 24, 25, 26, 27, 28, 29, 30, 31, 32, 33, 34, 35, 36, 37, 38, 39, 40, 41, 42, 43, 44, 45, 46, 47, 48, 49, 50, 51, 52, 53, 54, 55, 56, 57, 58, 59, 60, 61, 62, 63, 64, 65, 66, 67, 68, 69]\n",
      "0,1,2,3,4,5,6,7,8,9,10,11,12,13,14,15,16,17,18,19,20,21,22,23,24,25,26,27,28,29,30,31,32,33,34,35,36,37,38,39,40,41,42,43,44,45,46,47,48,49,"
     ]
    }
   ],
   "source": [
    "# save intermediate results\n",
    "print ('Generating results')\n",
    "if args.nTest > 0:\n",
    "    imgs = imgs[-args.nTest:, ...]\n",
    "    masks = masks[-args.nTest:, ...]\n",
    "\n",
    "reconTest, _ = TestSequence(sess, net, imgs, args, -1)\n",
    "maskFrame = np.tile(masks, (1,1,1,reconTest.shape[-1]))\n",
    "\n",
    "np.save(os.path.join(args.outFile), \n",
    "        np.copy(np.transpose((reconTest * maskFrame).astype(np.float32), (0,3,1,2)), 'C'))"
   ]
  },
  {
   "cell_type": "code",
   "execution_count": null,
   "metadata": {},
   "outputs": [],
   "source": []
  }
 ],
 "metadata": {
  "kernelspec": {
   "display_name": "Python 3",
   "language": "python",
   "name": "python3"
  },
  "language_info": {
   "codemirror_mode": {
    "name": "ipython",
    "version": 3
   },
   "file_extension": ".py",
   "mimetype": "text/x-python",
   "name": "python",
   "nbconvert_exporter": "python",
   "pygments_lexer": "ipython3",
   "version": "3.6.9"
  }
 },
 "nbformat": 4,
 "nbformat_minor": 4
}