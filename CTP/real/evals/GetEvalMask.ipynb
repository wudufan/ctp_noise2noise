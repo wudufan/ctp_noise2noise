{
 "cells": [
  {
   "cell_type": "markdown",
   "metadata": {},
   "source": [
    "#### Get masks for evaluation"
   ]
  },
  {
   "cell_type": "code",
   "execution_count": 1,
   "metadata": {},
   "outputs": [],
   "source": [
    "import numpy as np\n",
    "import imageio\n",
    "import glob\n",
    "import os\n",
    "import matplotlib.pyplot as plt"
   ]
  },
  {
   "cell_type": "code",
   "execution_count": 9,
   "metadata": {},
   "outputs": [],
   "source": [
    "nTest = 5\n",
    "fileList = np.load('/home/dwu/trainData/Noise2Noise/train/ctp/filelist_uncor.npy')[-nTest:]\n",
    "brainMasks = np.load('/home/dwu/trainData/Noise2Noise/train/ctp/real/data/mask.npy', allow_pickle=True)[-nTest:]"
   ]
  },
  {
   "cell_type": "code",
   "execution_count": 50,
   "metadata": {},
   "outputs": [],
   "source": [
    "def LoadROIs(dirname):\n",
    "    filenames = glob.glob(os.path.join(dirname, '*.tif'))\n",
    "    \n",
    "    rois = []\n",
    "    for i in range(len(brainMasks)):\n",
    "        rois.append(np.zeros_like(brainMasks[i]))\n",
    "    for filename in filenames:\n",
    "        img = imageio.imread(filename)\n",
    "        tokens = os.path.basename(filename).strip('.tif').split('_')\n",
    "        iImg = np.where(fileList == tokens[0])[0][0]\n",
    "        iSlice = int(tokens[1]) - 1\n",
    "\n",
    "        rois[iImg][iSlice, ..., 0] = np.where(img > 0, 1, 0)\n",
    "    \n",
    "    return rois"
   ]
  },
  {
   "cell_type": "code",
   "execution_count": 53,
   "metadata": {},
   "outputs": [],
   "source": [
    "biasROI = LoadROIs('/home/dwu/trainData/Noise2Noise/train/ctp/evals/rois/bias')\n",
    "stdROI = LoadROIs('/home/dwu/trainData/Noise2Noise/train/ctp/evals/rois/std')\n",
    "lesionROI = LoadROIs('/home/dwu/trainData/Noise2Noise/train/ctp/evals/rois/lesions/')"
   ]
  },
  {
   "cell_type": "code",
   "execution_count": 54,
   "metadata": {},
   "outputs": [],
   "source": [
    "# save ROIs\n",
    "outDir = '/home/dwu/trainData/Noise2Noise/train/ctp/real/evals/rois'\n",
    "if not os.path.exists(outDir):\n",
    "    os.makedirs(outDir)\n",
    "np.save(os.path.join(outDir, 'bias'), biasROI)\n",
    "np.save(os.path.join(outDir, 'std'), stdROI)\n",
    "np.save(os.path.join(outDir, 'lesion'), lesionROI)"
   ]
  },
  {
   "cell_type": "code",
   "execution_count": null,
   "metadata": {},
   "outputs": [],
   "source": []
  }
 ],
 "metadata": {
  "kernelspec": {
   "display_name": "Python 3",
   "language": "python",
   "name": "python3"
  },
  "language_info": {
   "codemirror_mode": {
    "name": "ipython",
    "version": 3
   },
   "file_extension": ".py",
   "mimetype": "text/x-python",
   "name": "python",
   "nbconvert_exporter": "python",
   "pygments_lexer": "ipython3",
   "version": "3.6.9"
  }
 },
 "nbformat": 4,
 "nbformat_minor": 4
}
