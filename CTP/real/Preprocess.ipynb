{
 "cells": [
  {
   "cell_type": "code",
   "execution_count": 1,
   "metadata": {},
   "outputs": [],
   "source": [
    "import sys\n",
    "import os\n",
    "import nibabel as nib\n",
    "import matplotlib.pyplot as plt\n",
    "import numpy as np\n",
    "import glob\n",
    "import scipy.ndimage"
   ]
  },
  {
   "cell_type": "code",
   "execution_count": 2,
   "metadata": {},
   "outputs": [],
   "source": [
    "sys.path.append('../Preprocess')\n",
    "import CTPPreprocess\n",
    "import CalcParaMaps"
   ]
  },
  {
   "cell_type": "code",
   "execution_count": 3,
   "metadata": {},
   "outputs": [],
   "source": [
    "filelist = np.load('../../filelist_uncor.npy')\n",
    "imgDir = '/home/dwu/data/isles/TRAINING/'\n",
    "outDir = '/home/dwu/trainData/Noise2Noise/train/ctp/real/data/'"
   ]
  },
  {
   "cell_type": "code",
   "execution_count": 4,
   "metadata": {},
   "outputs": [],
   "source": [
    "if not os.path.exists(outDir):\n",
    "    os.makedirs(outDir)"
   ]
  },
  {
   "cell_type": "code",
   "execution_count": 5,
   "metadata": {},
   "outputs": [],
   "source": [
    "# ct perfusion images\n",
    "imgs4d = []\n",
    "for case in filelist:\n",
    "    name = glob.glob(os.path.join(imgDir, 'case_'+case, '*', '*4DPWI*.nii'))[0]\n",
    "    ctpImg = nib.load(name).get_fdata().astype(np.float32).transpose(2, 1, 0, 3)\n",
    "    imgs4d.append(ctpImg)\n",
    "\n",
    "# np.save(os.path.join(outDir, 'imgs4d'), imgs4d)"
   ]
  },
  {
   "cell_type": "code",
   "execution_count": 6,
   "metadata": {},
   "outputs": [],
   "source": [
    "def RetrieveParamaps(srcPattern, dstName, imgDir, outDir, filelist):\n",
    "    imgs = []\n",
    "    for case in filelist:\n",
    "        name = glob.glob(os.path.join(imgDir, 'case_'+case, '*', srcPattern))[0]\n",
    "        img = nib.load(name).get_fdata().astype(np.float32).transpose(2, 1, 0)[..., np.newaxis]\n",
    "        imgs.append(img)\n",
    "\n",
    "    np.save(os.path.join(outDir, dstName), imgs)\n",
    "    \n",
    "    return imgs"
   ]
  },
  {
   "cell_type": "code",
   "execution_count": 7,
   "metadata": {},
   "outputs": [],
   "source": [
    "nccts = RetrieveParamaps('*O.CT*.nii', 'ncct', imgDir, outDir, filelist)\n",
    "cbf0 = RetrieveParamaps('*CBF*.nii', 'cbf0', imgDir, outDir, filelist)\n",
    "cbv0 = RetrieveParamaps('*CBV*.nii', 'cbv0', imgDir, outDir, filelist)\n",
    "mtt0 = RetrieveParamaps('*MTT*.nii', 'mtt0', imgDir, outDir, filelist)\n",
    "tmax0 = RetrieveParamaps('*Tmax*.nii', 'tmax0', imgDir, outDir, filelist)\n",
    "ots = RetrieveParamaps('*O.OT*.nii', 'ot', imgDir, outDir, filelist)"
   ]
  },
  {
   "cell_type": "code",
   "execution_count": 8,
   "metadata": {},
   "outputs": [],
   "source": [
    "# get bone mask\n",
    "masks = []\n",
    "for i in range(len(nccts)):\n",
    "    mask = CTPPreprocess.BrainMask(nccts[i][...,0].transpose(2, 1, 0)).transpose(2,1,0)[...,np.newaxis]\n",
    "    masks.append(mask)\n",
    "    \n",
    "# np.save(os.path.join(outDir, 'mask'), masks)"
   ]
  },
  {
   "cell_type": "code",
   "execution_count": 9,
   "metadata": {},
   "outputs": [],
   "source": [
    "# get aif and vof\n",
    "aifs = []\n",
    "vofs = []\n",
    "for i in range(len(imgs4d)):\n",
    "    tac = (imgs4d[i] - nccts[i]) * masks[i]\n",
    "    tac = tac.transpose(2,1,0,3)\n",
    "    mask = masks[i].transpose(2,1,0,3)[...,0]\n",
    "    \n",
    "    vof, aif, _, _, _ = CTPPreprocess.AutoVofAndAif(tac, mask)\n",
    "    \n",
    "    aifs.append(aif)\n",
    "    vofs.append(vof)\n",
    "\n",
    "# np.save(os.path.join(outDir, 'vof'), vofs)\n",
    "# np.save(os.path.join(outDir, 'aif'), aifs)"
   ]
  },
  {
   "cell_type": "code",
   "execution_count": 10,
   "metadata": {},
   "outputs": [],
   "source": [
    "# Calculate cbf and get cbf calibration factors\n",
    "cbfFacs = []\n",
    "cbvFacs = []\n",
    "for i in range(len(imgs4d)):\n",
    "    tac = (imgs4d[i] - nccts[i]) * masks[i]\n",
    "    tac = scipy.ndimage.filters.gaussian_filter1d(tac, 1.75, 1)\n",
    "    tac = scipy.ndimage.filters.gaussian_filter1d(tac, 1.75, 2)\n",
    "    \n",
    "    cbf, cbv, mtt = CalcParaMaps.CalcParaMaps(tac, masks[i], vof = vofs[i], aif = aifs[i])    \n",
    "    \n",
    "    cbfFac = np.sum(cbf0[i] * masks[i]) / np.sum(cbf[...,np.newaxis] * masks[i])\n",
    "    cbfFacs.append(cbfFac)\n",
    "    \n",
    "    cbvFac = np.sum(cbv0[i] * masks[i]) / np.sum(cbv[...,np.newaxis] * masks[i])\n",
    "    cbvFacs.append(cbvFac)\n",
    "\n",
    "# np.save(os.path.join(outDir, 'cbfFac'), cbfFacs)\n",
    "np.save(os.path.join(outDir, 'cbvFac'), cbvFacs)"
   ]
  },
  {
   "cell_type": "code",
   "execution_count": null,
   "metadata": {},
   "outputs": [],
   "source": []
  }
 ],
 "metadata": {
  "kernelspec": {
   "display_name": "Python 3",
   "language": "python",
   "name": "python3"
  },
  "language_info": {
   "codemirror_mode": {
    "name": "ipython",
    "version": 3
   },
   "file_extension": ".py",
   "mimetype": "text/x-python",
   "name": "python",
   "nbconvert_exporter": "python",
   "pygments_lexer": "ipython3",
   "version": "3.6.9"
  }
 },
 "nbformat": 4,
 "nbformat_minor": 4
}